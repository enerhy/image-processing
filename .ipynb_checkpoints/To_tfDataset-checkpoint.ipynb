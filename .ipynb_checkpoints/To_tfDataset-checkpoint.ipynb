{
 "cells": [
  {
   "cell_type": "code",
   "execution_count": 62,
   "id": "infrared-joint",
   "metadata": {},
   "outputs": [],
   "source": [
    "import tensorflow as tf\n",
    "import numpy as np\n",
    "import matplotlib.pyplot as plt"
   ]
  },
  {
   "cell_type": "code",
   "execution_count": 81,
   "id": "generous-immigration",
   "metadata": {},
   "outputs": [],
   "source": [
    "batch_size = 12"
   ]
  },
  {
   "cell_type": "markdown",
   "id": "configured-xerox",
   "metadata": {},
   "source": [
    "## Touple Image - Class Label"
   ]
  },
  {
   "cell_type": "code",
   "execution_count": 21,
   "id": "younger-reliance",
   "metadata": {},
   "outputs": [],
   "source": [
    "(x_train, y_train), (x_test, y_test) = tf.keras.datasets.mnist.load_data()"
   ]
  },
  {
   "cell_type": "code",
   "execution_count": 22,
   "id": "distinguished-steal",
   "metadata": {},
   "outputs": [],
   "source": [
    "# The dataset expects (BS, H, W, C), so:\n",
    "\n",
    "img_rows, img_cols, img_ch = 28, 28, 1\n",
    "input_shape = (img_rows, img_cols, img_ch)\n",
    "x_train = x_train.reshape(x_train.shape[0], *input_shape)\n",
    "# OR x_train = np.expand_dims(x_train, -1)\n",
    "x_test = x_test.reshape(x_test.shape[0], *input_shape)"
   ]
  },
  {
   "cell_type": "code",
   "execution_count": 33,
   "id": "powered-preserve",
   "metadata": {},
   "outputs": [],
   "source": [
    "dataset    = tf.data.Dataset.from_tensor_slices((x_train, y_train))\n",
    "\n",
    "dataset = dataset.batch(batch_size)"
   ]
  },
  {
   "cell_type": "code",
   "execution_count": 35,
   "id": "judicial-fleece",
   "metadata": {},
   "outputs": [
    {
     "name": "stdout",
     "output_type": "stream",
     "text": [
      "(12, 28, 28, 1)\n",
      "[5 0 4 1 9 2 1 3 1 4 3 5]\n"
     ]
    }
   ],
   "source": [
    "for img, label in dataset.take(1):\n",
    "    print(img.shape)\n",
    "    print(label.numpy())"
   ]
  },
  {
   "cell_type": "markdown",
   "id": "important-suffering",
   "metadata": {},
   "source": [
    "# Image Generator - Images in FolderClasses"
   ]
  },
  {
   "cell_type": "code",
   "execution_count": 91,
   "id": "concerned-simpson",
   "metadata": {},
   "outputs": [
    {
     "name": "stdout",
     "output_type": "stream",
     "text": [
      "Found 9957 images belonging to 4 classes.\n",
      "Found 2487 images belonging to 4 classes.\n"
     ]
    }
   ],
   "source": [
    "from glob import glob\n",
    "from tensorflow.keras.preprocessing.image import ImageDataGenerator\n",
    "\n",
    "IMAGE_SIZE = [128, 128]\n",
    "\n",
    "\n",
    "# Holding the paths:\n",
    "train_path = r'D:\\Machine Learning\\datasets\\bloodcells\\TRAIN'\n",
    "valid_path = r'D:\\Machine Learning\\datasets\\bloodcells\\TEST'\n",
    "test_path = r'D:\\Machine Learning\\datasets\\bloodcells\\TEST_SIMPLE'\n",
    "\n",
    "# Get List of files\n",
    "image_files = glob(train_path + '/*/*.jp*g')\n",
    "valid_image_files = glob(valid_path + '/*/*.jp*g')\n",
    "test_images = glob(test_path + '/*/*.jp*g')\n",
    "\n",
    "\n",
    "folders = glob(train_path + '/*')\n",
    "num_classes = len(folders) \n",
    "\n",
    "# Train Generator\n",
    "train_datagen = ImageDataGenerator(rescale=1.0/255.,\n",
    "                                  rotation_range=40,\n",
    "                                  width_shift_range=0.2,\n",
    "                                  height_shift_range=0.2,\n",
    "                                  shear_range=0.2,\n",
    "                                  zoom_range=0.2,\n",
    "                                  horizontal_flip=True,\n",
    "                                  fill_mode='nearest')\n",
    "\n",
    "\n",
    "train_generator = train_datagen.flow_from_directory(directory=train_path,\n",
    "                                                   target_size=IMAGE_SIZE,\n",
    "                                                   class_mode='categorical',\n",
    "                                                   batch_size=batch_size\n",
    "                                                   )\n",
    "\n",
    "\n",
    "# Validation Generator\n",
    "valid_datagen = ImageDataGenerator(rescale=1.0/255.)\n",
    "\n",
    "valid_generator = valid_datagen.flow_from_directory(\n",
    "    valid_path,\n",
    "    target_size=IMAGE_SIZE,\n",
    "    class_mode=\"categorical\",\n",
    "    batch_size=batch_size,\n",
    ")"
   ]
  },
  {
   "cell_type": "code",
   "execution_count": 92,
   "id": "lucky-royal",
   "metadata": {},
   "outputs": [],
   "source": [
    "train_dataset = tf.data.Dataset.from_generator(\n",
    "    lambda: train_generator,\n",
    "    output_types = (tf.float32, tf.float32),\n",
    "    output_shapes = ([None, IMAGE_SIZE[0], IMAGE_SIZE[1], 3], [None, num_classes]),\n",
    ")\n",
    "\n",
    "valid_dataset = tf.data.Dataset.from_generator(\n",
    "    lambda: valid_generator,\n",
    "    output_types = (tf.float32, tf.float32),\n",
    "    output_shapes = ([None, IMAGE_SIZE[0], IMAGE_SIZE[1], 3], [None, num_classes]),\n",
    ")"
   ]
  },
  {
   "cell_type": "code",
   "execution_count": 94,
   "id": "passive-handling",
   "metadata": {},
   "outputs": [
    {
     "data": {
      "text/plain": [
       "<FlatMapDataset shapes: ((None, 128, 128, 3), (None, 4)), types: (tf.float32, tf.float32)>"
      ]
     },
     "execution_count": 94,
     "metadata": {},
     "output_type": "execute_result"
    }
   ],
   "source": [
    "train_dataset"
   ]
  },
  {
   "cell_type": "code",
   "execution_count": 90,
   "id": "accredited-consolidation",
   "metadata": {},
   "outputs": [
    {
     "data": {
      "text/plain": [
       "<BatchDataset shapes: ((None, None, 128, 128, 3), (None, None, 4)), types: (tf.float32, tf.float32)>"
      ]
     },
     "execution_count": 90,
     "metadata": {},
     "output_type": "execute_result"
    }
   ],
   "source": [
    "# The dataset must be batched at the generator point - Here it doesnt work\n",
    "# train_dataset.batch(8)\n",
    "# valid_dataset.batch(8)"
   ]
  },
  {
   "cell_type": "code",
   "execution_count": 93,
   "id": "instant-hawaii",
   "metadata": {},
   "outputs": [
    {
     "name": "stdout",
     "output_type": "stream",
     "text": [
      "(12, 128, 128, 3)\n",
      "(12, 4)\n"
     ]
    }
   ],
   "source": [
    "for img, label in valid_dataset.take(1):\n",
    "    print(img.shape)\n",
    "    print(label.shape)"
   ]
  },
  {
   "cell_type": "markdown",
   "id": "viral-range",
   "metadata": {},
   "source": [
    "# Segmentation Input - Images and Masks in Folders"
   ]
  },
  {
   "cell_type": "code",
   "execution_count": 95,
   "id": "entitled-input",
   "metadata": {},
   "outputs": [
    {
     "name": "stdout",
     "output_type": "stream",
     "text": [
      "number of images:  443\n",
      "number of masks:  443\n"
     ]
    }
   ],
   "source": [
    "train_paht = r'D:\\GATE\\07_Projects\\03_rooftop_segmentation\\data\\train'\n",
    "\n",
    "# image files\n",
    "image_files = glob(train_paht + '/images/*.png')\n",
    "# mask files\n",
    "mask_files = glob(train_paht + '/masks/*.png')\n",
    "\n",
    "print('number of images: ', len(image_files))\n",
    "print('number of masks: ', len(mask_files))"
   ]
  },
  {
   "cell_type": "code",
   "execution_count": 96,
   "id": "impressive-sequence",
   "metadata": {},
   "outputs": [],
   "source": [
    "def get_image_mask_pair(list_image_files, list_mask_files):\n",
    "    assert(len(list_image_files) == len(list_mask_files))\n",
    "    return sorted(list_image_files), sorted(list_mask_files)"
   ]
  },
  {
   "cell_type": "code",
   "execution_count": 97,
   "id": "marine-opposition",
   "metadata": {},
   "outputs": [],
   "source": [
    "train_input_files, train_gt_files = get_image_mask_pair(image_files, mask_files)"
   ]
  },
  {
   "cell_type": "code",
   "execution_count": 98,
   "id": "documentary-catch",
   "metadata": {},
   "outputs": [],
   "source": [
    "image_files = tf.constant([train_input_files[:]])\n",
    "gt_files = tf.constant([train_gt_files[:]])"
   ]
  },
  {
   "cell_type": "code",
   "execution_count": 99,
   "id": "curious-solid",
   "metadata": {},
   "outputs": [],
   "source": [
    "dataset_train = tf.data.Dataset.from_tensor_slices({'image': tf.squeeze(image_files), \n",
    "                                                   'label': tf.squeeze(gt_files)})\n",
    "dataset_train"
   ]
  },
  {
   "cell_type": "code",
   "execution_count": 104,
   "id": "behind-dealing",
   "metadata": {},
   "outputs": [
    {
     "name": "stdout",
     "output_type": "stream",
     "text": [
      "image\n"
     ]
    }
   ],
   "source": [
    "for img, label in dataset_train.take(1):\n",
    "    print(img)\n",
    "#     print(img.shape)\n",
    "#     print(label.shape)"
   ]
  },
  {
   "cell_type": "code",
   "execution_count": 105,
   "id": "increasing-visiting",
   "metadata": {},
   "outputs": [],
   "source": [
    "def parse_function(filenames, resize_to=[128, 128]):\n",
    "    \"\"\"\n",
    "    Parse files into input/label image pair.\n",
    "    :param filenames:   Dict containing the two files (filenames['image'], filenames['label'])\n",
    "    :param resize_to:   H x W Dimensions to resize the image and label to\n",
    "    :return:            Input tensor, Label tensor\n",
    "    \"\"\"\n",
    "    img_filename, gt_filename = filenames['image'], filenames['label']\n",
    "\n",
    "    # Reading the files and returning their content as bytes:\n",
    "    image_string, gt_string = tf.io.read_file(img_filename), tf.io.read_file(gt_filename)\n",
    "    # Decoding those into images\n",
    "    image_decoded = tf.io.decode_jpeg(image_string, channels=3)\n",
    "    gt_decoded = tf.io.decode_png(gt_string, channels=1)\n",
    "    \n",
    "    # Converting image to float:\n",
    "    image = tf.image.convert_image_dtype(image_decoded, tf.float32)\n",
    "    gt = tf.cast(gt_decoded, tf.int32)\n",
    "                                  \n",
    "    # Resizing:\n",
    "    image = tf.image.resize(image, resize_to)\n",
    "    gt = tf.image.resize(gt, resize_to, method=tf.image.ResizeMethod.NEAREST_NEIGHBOR)\n",
    "    \n",
    "    return image, gt"
   ]
  },
  {
   "cell_type": "code",
   "execution_count": 108,
   "id": "color-chamber",
   "metadata": {},
   "outputs": [
    {
     "name": "stdout",
     "output_type": "stream",
     "text": [
      "<MapDataset shapes: ((128, 128, 3), (128, 128, 1)), types: (tf.float32, tf.int32)>\n"
     ]
    }
   ],
   "source": [
    "import functools\n",
    "\n",
    "# We tell the dataset how to parse into images:\n",
    "\"\"\"Why use functools.partial?\"\"\"\n",
    "parse_fn = functools.partial(parse_function, resize_to=IMAGE_SIZE)\n",
    "dataset_train = dataset_train.map(parse_fn)\n",
    "print(dataset_train)"
   ]
  },
  {
   "cell_type": "code",
   "execution_count": 110,
   "id": "electronic-premiere",
   "metadata": {},
   "outputs": [
    {
     "name": "stdout",
     "output_type": "stream",
     "text": [
      "(128, 128, 3)\n",
      "(128, 128, 1)\n"
     ]
    }
   ],
   "source": [
    "for img, label in dataset_train.take(1):\n",
    "    print(img.shape)\n",
    "    print(label.shape)"
   ]
  },
  {
   "cell_type": "code",
   "execution_count": null,
   "id": "engaged-think",
   "metadata": {},
   "outputs": [],
   "source": []
  }
 ],
 "metadata": {
  "kernelspec": {
   "display_name": "Python 3",
   "language": "python",
   "name": "python3"
  },
  "language_info": {
   "codemirror_mode": {
    "name": "ipython",
    "version": 3
   },
   "file_extension": ".py",
   "mimetype": "text/x-python",
   "name": "python",
   "nbconvert_exporter": "python",
   "pygments_lexer": "ipython3",
   "version": "3.7.10"
  }
 },
 "nbformat": 4,
 "nbformat_minor": 5
}
