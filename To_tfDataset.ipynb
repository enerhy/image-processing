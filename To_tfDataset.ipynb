{
 "cells": [
  {
   "cell_type": "code",
   "execution_count": 1,
   "id": "infrared-joint",
   "metadata": {
    "ExecuteTime": {
     "end_time": "2021-06-04T12:01:52.614758Z",
     "start_time": "2021-06-04T12:01:48.194841Z"
    }
   },
   "outputs": [
    {
     "name": "stderr",
     "output_type": "stream",
     "text": [
      "C:\\Users\\anspa\\miniconda3\\envs\\solaris\\lib\\site-packages\\tensorflow\\python\\framework\\dtypes.py:526: FutureWarning: Passing (type, 1) or '1type' as a synonym of type is deprecated; in a future version of numpy, it will be understood as (type, (1,)) / '(1,)type'.\n",
      "  _np_qint8 = np.dtype([(\"qint8\", np.int8, 1)])\n",
      "C:\\Users\\anspa\\miniconda3\\envs\\solaris\\lib\\site-packages\\tensorflow\\python\\framework\\dtypes.py:527: FutureWarning: Passing (type, 1) or '1type' as a synonym of type is deprecated; in a future version of numpy, it will be understood as (type, (1,)) / '(1,)type'.\n",
      "  _np_quint8 = np.dtype([(\"quint8\", np.uint8, 1)])\n",
      "C:\\Users\\anspa\\miniconda3\\envs\\solaris\\lib\\site-packages\\tensorflow\\python\\framework\\dtypes.py:528: FutureWarning: Passing (type, 1) or '1type' as a synonym of type is deprecated; in a future version of numpy, it will be understood as (type, (1,)) / '(1,)type'.\n",
      "  _np_qint16 = np.dtype([(\"qint16\", np.int16, 1)])\n",
      "C:\\Users\\anspa\\miniconda3\\envs\\solaris\\lib\\site-packages\\tensorflow\\python\\framework\\dtypes.py:529: FutureWarning: Passing (type, 1) or '1type' as a synonym of type is deprecated; in a future version of numpy, it will be understood as (type, (1,)) / '(1,)type'.\n",
      "  _np_quint16 = np.dtype([(\"quint16\", np.uint16, 1)])\n",
      "C:\\Users\\anspa\\miniconda3\\envs\\solaris\\lib\\site-packages\\tensorflow\\python\\framework\\dtypes.py:530: FutureWarning: Passing (type, 1) or '1type' as a synonym of type is deprecated; in a future version of numpy, it will be understood as (type, (1,)) / '(1,)type'.\n",
      "  _np_qint32 = np.dtype([(\"qint32\", np.int32, 1)])\n",
      "C:\\Users\\anspa\\miniconda3\\envs\\solaris\\lib\\site-packages\\tensorflow\\python\\framework\\dtypes.py:535: FutureWarning: Passing (type, 1) or '1type' as a synonym of type is deprecated; in a future version of numpy, it will be understood as (type, (1,)) / '(1,)type'.\n",
      "  np_resource = np.dtype([(\"resource\", np.ubyte, 1)])\n"
     ]
    }
   ],
   "source": [
    "import tensorflow as tf\n",
    "import numpy as np\n",
    "import matplotlib.pyplot as plt"
   ]
  },
  {
   "cell_type": "code",
   "execution_count": 2,
   "id": "generous-immigration",
   "metadata": {
    "ExecuteTime": {
     "end_time": "2021-06-04T12:01:52.661635Z",
     "start_time": "2021-06-04T12:01:52.649697Z"
    }
   },
   "outputs": [],
   "source": [
    "batch_size = 12"
   ]
  },
  {
   "cell_type": "markdown",
   "id": "configured-xerox",
   "metadata": {},
   "source": [
    "## Touple Image - Class Label"
   ]
  },
  {
   "cell_type": "code",
   "execution_count": 3,
   "id": "younger-reliance",
   "metadata": {
    "ExecuteTime": {
     "end_time": "2021-06-04T12:01:55.579238Z",
     "start_time": "2021-06-04T12:01:55.246228Z"
    }
   },
   "outputs": [],
   "source": [
    "(x_train, y_train), (x_test, y_test) = tf.keras.datasets.mnist.load_data()"
   ]
  },
  {
   "cell_type": "code",
   "execution_count": 4,
   "id": "royal-nitrogen",
   "metadata": {
    "ExecuteTime": {
     "end_time": "2021-06-04T12:01:59.052347Z",
     "start_time": "2021-06-04T12:01:59.040379Z"
    },
    "collapsed": true
   },
   "outputs": [
    {
     "data": {
      "text/plain": [
       "array([[[0, 0, 0, ..., 0, 0, 0],\n",
       "        [0, 0, 0, ..., 0, 0, 0],\n",
       "        [0, 0, 0, ..., 0, 0, 0],\n",
       "        ...,\n",
       "        [0, 0, 0, ..., 0, 0, 0],\n",
       "        [0, 0, 0, ..., 0, 0, 0],\n",
       "        [0, 0, 0, ..., 0, 0, 0]],\n",
       "\n",
       "       [[0, 0, 0, ..., 0, 0, 0],\n",
       "        [0, 0, 0, ..., 0, 0, 0],\n",
       "        [0, 0, 0, ..., 0, 0, 0],\n",
       "        ...,\n",
       "        [0, 0, 0, ..., 0, 0, 0],\n",
       "        [0, 0, 0, ..., 0, 0, 0],\n",
       "        [0, 0, 0, ..., 0, 0, 0]],\n",
       "\n",
       "       [[0, 0, 0, ..., 0, 0, 0],\n",
       "        [0, 0, 0, ..., 0, 0, 0],\n",
       "        [0, 0, 0, ..., 0, 0, 0],\n",
       "        ...,\n",
       "        [0, 0, 0, ..., 0, 0, 0],\n",
       "        [0, 0, 0, ..., 0, 0, 0],\n",
       "        [0, 0, 0, ..., 0, 0, 0]],\n",
       "\n",
       "       ...,\n",
       "\n",
       "       [[0, 0, 0, ..., 0, 0, 0],\n",
       "        [0, 0, 0, ..., 0, 0, 0],\n",
       "        [0, 0, 0, ..., 0, 0, 0],\n",
       "        ...,\n",
       "        [0, 0, 0, ..., 0, 0, 0],\n",
       "        [0, 0, 0, ..., 0, 0, 0],\n",
       "        [0, 0, 0, ..., 0, 0, 0]],\n",
       "\n",
       "       [[0, 0, 0, ..., 0, 0, 0],\n",
       "        [0, 0, 0, ..., 0, 0, 0],\n",
       "        [0, 0, 0, ..., 0, 0, 0],\n",
       "        ...,\n",
       "        [0, 0, 0, ..., 0, 0, 0],\n",
       "        [0, 0, 0, ..., 0, 0, 0],\n",
       "        [0, 0, 0, ..., 0, 0, 0]],\n",
       "\n",
       "       [[0, 0, 0, ..., 0, 0, 0],\n",
       "        [0, 0, 0, ..., 0, 0, 0],\n",
       "        [0, 0, 0, ..., 0, 0, 0],\n",
       "        ...,\n",
       "        [0, 0, 0, ..., 0, 0, 0],\n",
       "        [0, 0, 0, ..., 0, 0, 0],\n",
       "        [0, 0, 0, ..., 0, 0, 0]]], dtype=uint8)"
      ]
     },
     "execution_count": 4,
     "metadata": {},
     "output_type": "execute_result"
    }
   ],
   "source": [
    "x_train"
   ]
  },
  {
   "cell_type": "code",
   "execution_count": 22,
   "id": "distinguished-steal",
   "metadata": {},
   "outputs": [],
   "source": [
    "# The dataset expects (BS, H, W, C), so:\n",
    "\n",
    "img_rows, img_cols, img_ch = 28, 28, 1\n",
    "input_shape = (img_rows, img_cols, img_ch)\n",
    "x_train = x_train.reshape(x_train.shape[0], *input_shape)\n",
    "# OR x_train = np.expand_dims(x_train, -1)\n",
    "x_test = x_test.reshape(x_test.shape[0], *input_shape)"
   ]
  },
  {
   "cell_type": "code",
   "execution_count": 33,
   "id": "powered-preserve",
   "metadata": {},
   "outputs": [],
   "source": [
    "dataset    = tf.data.Dataset.from_tensor_slices((x_train, y_train))\n",
    "\n",
    "dataset = dataset.batch(batch_size)"
   ]
  },
  {
   "cell_type": "code",
   "execution_count": 35,
   "id": "judicial-fleece",
   "metadata": {},
   "outputs": [
    {
     "name": "stdout",
     "output_type": "stream",
     "text": [
      "(12, 28, 28, 1)\n",
      "[5 0 4 1 9 2 1 3 1 4 3 5]\n"
     ]
    }
   ],
   "source": [
    "for img, label in dataset.take(1):\n",
    "    print(img.shape)\n",
    "    print(label.numpy())"
   ]
  },
  {
   "cell_type": "markdown",
   "id": "important-suffering",
   "metadata": {},
   "source": [
    "# Image Generator - Images in FolderClasses"
   ]
  },
  {
   "cell_type": "code",
   "execution_count": 91,
   "id": "concerned-simpson",
   "metadata": {},
   "outputs": [
    {
     "name": "stdout",
     "output_type": "stream",
     "text": [
      "Found 9957 images belonging to 4 classes.\n",
      "Found 2487 images belonging to 4 classes.\n"
     ]
    }
   ],
   "source": [
    "from glob import glob\n",
    "from tensorflow.keras.preprocessing.image import ImageDataGenerator\n",
    "\n",
    "IMAGE_SIZE = [128, 128]\n",
    "\n",
    "\n",
    "# Holding the paths:\n",
    "train_path = r'D:\\Machine Learning\\datasets\\bloodcells\\TRAIN'\n",
    "valid_path = r'D:\\Machine Learning\\datasets\\bloodcells\\TEST'\n",
    "test_path = r'D:\\Machine Learning\\datasets\\bloodcells\\TEST_SIMPLE'\n",
    "\n",
    "# Get List of files\n",
    "image_files = glob(train_path + '/*/*.jp*g')\n",
    "valid_image_files = glob(valid_path + '/*/*.jp*g')\n",
    "test_images = glob(test_path + '/*/*.jp*g')\n",
    "\n",
    "\n",
    "folders = glob(train_path + '/*')\n",
    "num_classes = len(folders) \n",
    "\n",
    "# Train Generator\n",
    "train_datagen = ImageDataGenerator(rescale=1.0/255.,\n",
    "                                  rotation_range=40,\n",
    "                                  width_shift_range=0.2,\n",
    "                                  height_shift_range=0.2,\n",
    "                                  shear_range=0.2,\n",
    "                                  zoom_range=0.2,\n",
    "                                  horizontal_flip=True,\n",
    "                                  fill_mode='nearest')\n",
    "\n",
    "\n",
    "train_generator = train_datagen.flow_from_directory(directory=train_path,\n",
    "                                                   target_size=IMAGE_SIZE,\n",
    "                                                   class_mode='categorical',\n",
    "                                                   batch_size=batch_size\n",
    "                                                   )\n",
    "\n",
    "\n",
    "# Validation Generator\n",
    "valid_datagen = ImageDataGenerator(rescale=1.0/255.)\n",
    "\n",
    "valid_generator = valid_datagen.flow_from_directory(\n",
    "    valid_path,\n",
    "    target_size=IMAGE_SIZE,\n",
    "    class_mode=\"categorical\",\n",
    "    batch_size=batch_size,\n",
    ")"
   ]
  },
  {
   "cell_type": "code",
   "execution_count": 92,
   "id": "lucky-royal",
   "metadata": {},
   "outputs": [],
   "source": [
    "train_dataset = tf.data.Dataset.from_generator(\n",
    "    lambda: train_generator,\n",
    "    output_types = (tf.float32, tf.float32),\n",
    "    output_shapes = ([None, IMAGE_SIZE[0], IMAGE_SIZE[1], 3], [None, num_classes]),\n",
    ")\n",
    "\n",
    "valid_dataset = tf.data.Dataset.from_generator(\n",
    "    lambda: valid_generator,\n",
    "    output_types = (tf.float32, tf.float32),\n",
    "    output_shapes = ([None, IMAGE_SIZE[0], IMAGE_SIZE[1], 3], [None, num_classes]),\n",
    ")"
   ]
  },
  {
   "cell_type": "code",
   "execution_count": 94,
   "id": "passive-handling",
   "metadata": {},
   "outputs": [
    {
     "data": {
      "text/plain": [
       "<FlatMapDataset shapes: ((None, 128, 128, 3), (None, 4)), types: (tf.float32, tf.float32)>"
      ]
     },
     "execution_count": 94,
     "metadata": {},
     "output_type": "execute_result"
    }
   ],
   "source": [
    "train_dataset"
   ]
  },
  {
   "cell_type": "code",
   "execution_count": 90,
   "id": "accredited-consolidation",
   "metadata": {},
   "outputs": [
    {
     "data": {
      "text/plain": [
       "<BatchDataset shapes: ((None, None, 128, 128, 3), (None, None, 4)), types: (tf.float32, tf.float32)>"
      ]
     },
     "execution_count": 90,
     "metadata": {},
     "output_type": "execute_result"
    }
   ],
   "source": [
    "# The dataset must be batched at the generator point - Here it doesnt work\n",
    "# train_dataset.batch(8)\n",
    "# valid_dataset.batch(8)"
   ]
  },
  {
   "cell_type": "code",
   "execution_count": 93,
   "id": "instant-hawaii",
   "metadata": {},
   "outputs": [
    {
     "name": "stdout",
     "output_type": "stream",
     "text": [
      "(12, 128, 128, 3)\n",
      "(12, 4)\n"
     ]
    }
   ],
   "source": [
    "for img, label in valid_dataset.take(1):\n",
    "    print(img.shape)\n",
    "    print(label.shape)"
   ]
  },
  {
   "cell_type": "markdown",
   "id": "viral-range",
   "metadata": {},
   "source": [
    "# Segmentation Input - Images and Masks in Folders"
   ]
  },
  {
   "cell_type": "code",
   "execution_count": 95,
   "id": "entitled-input",
   "metadata": {},
   "outputs": [
    {
     "name": "stdout",
     "output_type": "stream",
     "text": [
      "number of images:  443\n",
      "number of masks:  443\n"
     ]
    }
   ],
   "source": [
    "train_paht = r'D:\\GATE\\07_Projects\\03_rooftop_segmentation\\data\\train'\n",
    "\n",
    "# image files\n",
    "image_files = glob(train_paht + '/images/*.png')\n",
    "# mask files\n",
    "mask_files = glob(train_paht + '/masks/*.png')\n",
    "\n",
    "print('number of images: ', len(image_files))\n",
    "print('number of masks: ', len(mask_files))"
   ]
  },
  {
   "cell_type": "code",
   "execution_count": 96,
   "id": "impressive-sequence",
   "metadata": {},
   "outputs": [],
   "source": [
    "def get_image_mask_pair(list_image_files, list_mask_files):\n",
    "    assert(len(list_image_files) == len(list_mask_files))\n",
    "    return sorted(list_image_files), sorted(list_mask_files)"
   ]
  },
  {
   "cell_type": "code",
   "execution_count": 97,
   "id": "marine-opposition",
   "metadata": {},
   "outputs": [],
   "source": [
    "train_input_files, train_gt_files = get_image_mask_pair(image_files, mask_files)"
   ]
  },
  {
   "cell_type": "code",
   "execution_count": 98,
   "id": "documentary-catch",
   "metadata": {},
   "outputs": [],
   "source": [
    "image_files = tf.constant([train_input_files[:]])\n",
    "gt_files = tf.constant([train_gt_files[:]])"
   ]
  },
  {
   "cell_type": "code",
   "execution_count": 99,
   "id": "curious-solid",
   "metadata": {},
   "outputs": [],
   "source": [
    "dataset_train = tf.data.Dataset.from_tensor_slices({'image': tf.squeeze(image_files), \n",
    "                                                   'label': tf.squeeze(gt_files)})\n",
    "dataset_train"
   ]
  },
  {
   "cell_type": "code",
   "execution_count": 104,
   "id": "behind-dealing",
   "metadata": {},
   "outputs": [
    {
     "name": "stdout",
     "output_type": "stream",
     "text": [
      "image\n"
     ]
    }
   ],
   "source": [
    "for img, label in dataset_train.take(1):\n",
    "    print(img)\n",
    "#     print(img.shape)\n",
    "#     print(label.shape)"
   ]
  },
  {
   "cell_type": "code",
   "execution_count": 105,
   "id": "increasing-visiting",
   "metadata": {},
   "outputs": [],
   "source": [
    "def parse_function(filenames, resize_to=[128, 128]):\n",
    "    \"\"\"\n",
    "    Parse files into input/label image pair.\n",
    "    :param filenames:   Dict containing the two files (filenames['image'], filenames['label'])\n",
    "    :param resize_to:   H x W Dimensions to resize the image and label to\n",
    "    :return:            Input tensor, Label tensor\n",
    "    \"\"\"\n",
    "    img_filename, gt_filename = filenames['image'], filenames['label']\n",
    "\n",
    "    # Reading the files and returning their content as bytes:\n",
    "    image_string, gt_string = tf.io.read_file(img_filename), tf.io.read_file(gt_filename)\n",
    "    # Decoding those into images\n",
    "    image_decoded = tf.io.decode_jpeg(image_string, channels=3)\n",
    "    gt_decoded = tf.io.decode_png(gt_string, channels=1)\n",
    "    \n",
    "    # Converting image to float:\n",
    "    image = tf.image.convert_image_dtype(image_decoded, tf.float32)\n",
    "    gt = tf.cast(gt_decoded, tf.int32)\n",
    "                                  \n",
    "    # Resizing:\n",
    "    image = tf.image.resize(image, resize_to)\n",
    "    gt = tf.image.resize(gt, resize_to, method=tf.image.ResizeMethod.NEAREST_NEIGHBOR)\n",
    "    \n",
    "    return image, gt"
   ]
  },
  {
   "cell_type": "code",
   "execution_count": 108,
   "id": "color-chamber",
   "metadata": {},
   "outputs": [
    {
     "name": "stdout",
     "output_type": "stream",
     "text": [
      "<MapDataset shapes: ((128, 128, 3), (128, 128, 1)), types: (tf.float32, tf.int32)>\n"
     ]
    }
   ],
   "source": [
    "import functools\n",
    "\n",
    "# We tell the dataset how to parse into images:\n",
    "\"\"\"Why use functools.partial?\"\"\"\n",
    "parse_fn = functools.partial(parse_function, resize_to=IMAGE_SIZE)\n",
    "dataset_train = dataset_train.map(parse_fn)\n",
    "print(dataset_train)"
   ]
  },
  {
   "cell_type": "code",
   "execution_count": 110,
   "id": "electronic-premiere",
   "metadata": {},
   "outputs": [
    {
     "name": "stdout",
     "output_type": "stream",
     "text": [
      "(128, 128, 3)\n",
      "(128, 128, 1)\n"
     ]
    }
   ],
   "source": [
    "for img, label in dataset_train.take(1):\n",
    "    print(img.shape)\n",
    "    print(label.shape)"
   ]
  },
  {
   "cell_type": "code",
   "execution_count": null,
   "id": "engaged-think",
   "metadata": {},
   "outputs": [],
   "source": []
  }
 ],
 "metadata": {
  "kernelspec": {
   "display_name": "Python 3",
   "language": "python",
   "name": "python3"
  },
  "language_info": {
   "codemirror_mode": {
    "name": "ipython",
    "version": 3
   },
   "file_extension": ".py",
   "mimetype": "text/x-python",
   "name": "python",
   "nbconvert_exporter": "python",
   "pygments_lexer": "ipython3",
   "version": "3.7.10"
  },
  "toc": {
   "base_numbering": 1,
   "nav_menu": {},
   "number_sections": true,
   "sideBar": true,
   "skip_h1_title": false,
   "title_cell": "Table of Contents",
   "title_sidebar": "Contents",
   "toc_cell": false,
   "toc_position": {},
   "toc_section_display": true,
   "toc_window_display": false
  },
  "varInspector": {
   "cols": {
    "lenName": 16,
    "lenType": 16,
    "lenVar": 40
   },
   "kernels_config": {
    "python": {
     "delete_cmd_postfix": "",
     "delete_cmd_prefix": "del ",
     "library": "var_list.py",
     "varRefreshCmd": "print(var_dic_list())"
    },
    "r": {
     "delete_cmd_postfix": ") ",
     "delete_cmd_prefix": "rm(",
     "library": "var_list.r",
     "varRefreshCmd": "cat(var_dic_list()) "
    }
   },
   "types_to_exclude": [
    "module",
    "function",
    "builtin_function_or_method",
    "instance",
    "_Feature"
   ],
   "window_display": false
  }
 },
 "nbformat": 4,
 "nbformat_minor": 5
}
